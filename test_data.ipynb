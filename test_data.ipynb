{
 "cells": [
  {
   "cell_type": "code",
   "execution_count": 6,
   "id": "7445c85e",
   "metadata": {},
   "outputs": [
    {
     "data": {
      "text/html": [
       "<div>\n",
       "<style scoped>\n",
       "    .dataframe tbody tr th:only-of-type {\n",
       "        vertical-align: middle;\n",
       "    }\n",
       "\n",
       "    .dataframe tbody tr th {\n",
       "        vertical-align: top;\n",
       "    }\n",
       "\n",
       "    .dataframe thead th {\n",
       "        text-align: right;\n",
       "    }\n",
       "</style>\n",
       "<table border=\"1\" class=\"dataframe\">\n",
       "  <thead>\n",
       "    <tr style=\"text-align: right;\">\n",
       "      <th></th>\n",
       "      <th>text</th>\n",
       "      <th>label</th>\n",
       "    </tr>\n",
       "  </thead>\n",
       "  <tbody>\n",
       "    <tr>\n",
       "      <th>0</th>\n",
       "      <td>Fears for T N pension after talks Unions repre...</td>\n",
       "      <td>2</td>\n",
       "    </tr>\n",
       "    <tr>\n",
       "      <th>1</th>\n",
       "      <td>The Race is On: Second Private Team Sets Launc...</td>\n",
       "      <td>3</td>\n",
       "    </tr>\n",
       "    <tr>\n",
       "      <th>2</th>\n",
       "      <td>Ky. Company Wins Grant to Study Peptides (AP) ...</td>\n",
       "      <td>3</td>\n",
       "    </tr>\n",
       "    <tr>\n",
       "      <th>3</th>\n",
       "      <td>Prediction Unit Helps Forecast Wildfires (AP) ...</td>\n",
       "      <td>3</td>\n",
       "    </tr>\n",
       "    <tr>\n",
       "      <th>4</th>\n",
       "      <td>Calif. Aims to Limit Farm-Related Smog (AP) AP...</td>\n",
       "      <td>3</td>\n",
       "    </tr>\n",
       "  </tbody>\n",
       "</table>\n",
       "</div>"
      ],
      "text/plain": [
       "                                                text  label\n",
       "0  Fears for T N pension after talks Unions repre...      2\n",
       "1  The Race is On: Second Private Team Sets Launc...      3\n",
       "2  Ky. Company Wins Grant to Study Peptides (AP) ...      3\n",
       "3  Prediction Unit Helps Forecast Wildfires (AP) ...      3\n",
       "4  Calif. Aims to Limit Farm-Related Smog (AP) AP...      3"
      ]
     },
     "execution_count": 6,
     "metadata": {},
     "output_type": "execute_result"
    }
   ],
   "source": [
    "import pandas as pd\n",
    "\n",
    "# Get training dataset\n",
    "splits = {'train': 'data/train-00000-of-00001.parquet', 'test': 'data/test-00000-of-00001.parquet'}\n",
    "df_train = pd.read_parquet(\"hf://datasets/fancyzhx/ag_news/\" + splits[\"train\"])\n",
    "df_train.head()\n",
    "\n",
    "# Get testing dataset\n",
    "df_test = pd.read_parquet(\"hf://datasets/fancyzhx/ag_news/\" + splits[\"test\"])\n",
    "df_test.head()"
   ]
  },
  {
   "cell_type": "code",
   "execution_count": null,
   "id": "5801d10b",
   "metadata": {},
   "outputs": [
    {
     "name": "stdout",
     "output_type": "stream",
     "text": [
      "\n",
      "Balanced Training Set Label Distribution:\n",
      "label\n",
      "0    1000\n",
      "1    1000\n",
      "2    1000\n",
      "3    1000\n",
      "Name: count, dtype: int64\n",
      "\n",
      "Imbalanced Training Set Label Distribution:\n",
      "label\n",
      "0    1000\n",
      "1     300\n",
      "2     300\n",
      "3     300\n",
      "Name: count, dtype: int64\n"
     ]
    }
   ],
   "source": [
    "from dotenv import load_dotenv\n",
    "import os\n",
    "import requests\n",
    "import time\n",
    "import json\n",
    "\n",
    "\n",
    "load_dotenv()\n",
    "API_KEY = os.getenv(\"API_KEY\")\n",
    "\n",
    "# Sample out an balanced training data\n",
    "n_rows_per_class = 1000\n",
    "balanced_dfs = []\n",
    "\n",
    "for label in sorted(df_train[\"label\"].unique()):\n",
    "    class_samples = df_train[df_train[\"label\"] == label]\n",
    "    balanced_dfs.append(class_samples.sample(n_rows_per_class, random_state=42))\n",
    "\n",
    "balanced_data = pd.concat(balanced_dfs)\n",
    "\n",
    "# Sample out an imbalanced training data (Assume label 0 as the majority class)\n",
    "n_majority = 1000\n",
    "n_minority = 300\n",
    "\n",
    "imbalanced_dfs = []\n",
    "label_0_class = df_train[df_train[\"label\"] == 0]\n",
    "imbalanced_dfs.append(label_0_class.sample(n_majority, random_state=42))\n",
    "\n",
    "for label in sorted(df_train[\"label\"].unique())[1:]:\n",
    "    class_samples = df_train[df_train['label'] == label]\n",
    "    imbalanced_dfs.append(class_samples.sample(n_minority, random_state=42))\n",
    "\n",
    "imbalanced_data = pd.concat(imbalanced_dfs)\n",
    "# Shuffle the imbalanced dataset to mix the classes\n",
    "imbalanced_data = imbalanced_data.sample(frac=1, random_state=42).reset_index(drop=True)\n",
    "\n",
    "print(\"\\nBalanced Training Set Label Distribution:\")\n",
    "print(balanced_data['label'].value_counts().sort_index())\n",
    "\n",
    "print(\"\\nImbalanced Training Set Label Distribution:\")\n",
    "print(imbalanced_data['label'].value_counts().sort_index())\n",
    "\n"
   ]
  },
  {
   "cell_type": "code",
   "execution_count": 12,
   "id": "654b1e6c",
   "metadata": {},
   "outputs": [],
   "source": [
    "# Create a small testing set\n",
    "n_rows_per_class = 1000\n",
    "test_balanced_dfs = []\n",
    "for label in sorted(df_test[\"label\"].unique()):\n",
    "    test_samples = df_test[df_test[\"label\"] == label]\n",
    "    test_balanced_dfs.append(test_samples.sample(n_rows_per_class, random_state=42))\n",
    "\n",
    "testing_set = pd.concat(test_balanced_dfs)\n",
    "testing_set = testing_set.sample(frac=1, random_state=42).reset_index(drop=True)\n",
    "\n"
   ]
  },
  {
   "cell_type": "code",
   "execution_count": 14,
   "id": "b5017f94",
   "metadata": {},
   "outputs": [],
   "source": [
    "# Save datasets to parquet for later use\n",
    "balanced_data.to_parquet('Data/ag_news_train_balanced.parquet')\n",
    "imbalanced_data.to_parquet('Data/ag_news_train_imbalanced.parquet')\n",
    "testing_set.to_parquet('Data/ag_news_test_small.parquet')"
   ]
  },
  {
   "cell_type": "code",
   "execution_count": null,
   "id": "8c33036b",
   "metadata": {},
   "outputs": [],
   "source": []
  }
 ],
 "metadata": {
  "kernelspec": {
   "display_name": "base",
   "language": "python",
   "name": "python3"
  },
  "language_info": {
   "codemirror_mode": {
    "name": "ipython",
    "version": 3
   },
   "file_extension": ".py",
   "mimetype": "text/x-python",
   "name": "python",
   "nbconvert_exporter": "python",
   "pygments_lexer": "ipython3",
   "version": "3.12.7"
  }
 },
 "nbformat": 4,
 "nbformat_minor": 5
}
